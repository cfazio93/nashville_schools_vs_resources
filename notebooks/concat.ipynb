{
 "cells": [
  {
   "cell_type": "code",
   "execution_count": 1,
   "id": "a8906ec6-827b-4766-a4ff-5f9a7d09576c",
   "metadata": {},
   "outputs": [
    {
     "name": "stdout",
     "output_type": "stream",
     "text": [
      "Requirement already satisfied: openpyxl in c:\\users\\lucy\\anaconda3\\envs\\geospatial\\lib\\site-packages (3.1.5)\n",
      "Requirement already satisfied: et-xmlfile in c:\\users\\lucy\\anaconda3\\envs\\geospatial\\lib\\site-packages (from openpyxl) (2.0.0)\n"
     ]
    }
   ],
   "source": [
    "import pandas as pd\n",
    "import matplotlib.pyplot as plt\n",
    "#import seaborn as sns\n",
    "import numpy as np\n",
    "import sys\n",
    "! {sys.executable} -m pip install openpyxl\n",
    "import warnings\n",
    "warnings.filterwarnings('ignore')"
   ]
  },
  {
   "cell_type": "code",
   "execution_count": 2,
   "id": "33ee5c38-3cc6-4b02-8340-15472f9e9388",
   "metadata": {},
   "outputs": [],
   "source": [
    "new_df = pd.read_excel('merged_updated_1009.xlsx')"
   ]
  },
  {
   "cell_type": "code",
   "execution_count": 3,
   "id": "639e59ce-3adb-46ee-b411-e1ed963007fc",
   "metadata": {},
   "outputs": [],
   "source": [
    "new_libs = pd.read_excel('libraries_updated.xlsx')"
   ]
  },
  {
   "cell_type": "code",
   "execution_count": 4,
   "id": "d292b459-58dc-4bf0-b382-cf1874557401",
   "metadata": {},
   "outputs": [],
   "source": [
    "new_parks = pd.read_excel('parks_updated.xlsx')"
   ]
  },
  {
   "cell_type": "code",
   "execution_count": 5,
   "id": "be6ce937-8945-4335-bdb2-93c8bf34eccf",
   "metadata": {},
   "outputs": [],
   "source": [
    "new_df.rename(columns={'school_name': 'name'}, inplace=True)"
   ]
  },
  {
   "cell_type": "code",
   "execution_count": 6,
   "id": "afe38049-68b4-43a4-be38-a391db0722e6",
   "metadata": {},
   "outputs": [],
   "source": [
    "new_libs.rename(columns={'FacilityName': 'name'}, inplace=True)"
   ]
  },
  {
   "cell_type": "code",
   "execution_count": 7,
   "id": "a725f0c0-8746-4766-a79e-517b58a27552",
   "metadata": {},
   "outputs": [],
   "source": [
    "new_parks.rename(columns={'FacilityName': 'name'}, inplace=True)"
   ]
  },
  {
   "cell_type": "code",
   "execution_count": 8,
   "id": "dfd3d0d7-1e34-4286-9fca-be753bc8aaa2",
   "metadata": {},
   "outputs": [],
   "source": [
    "combined_df = pd.concat([new_df, new_libs, new_parks], ignore_index = True, axis=0)"
   ]
  },
  {
   "cell_type": "code",
   "execution_count": 20,
   "id": "8c4fc60b-99fe-465c-ad3d-d82dd2704a1a",
   "metadata": {},
   "outputs": [
    {
     "data": {
      "text/plain": [
       "Index(['school_number', 'name', 'wida_student_group', 'wida_exit_denom',\n",
       "       'wida_n_exit', 'wida_pct_exit', 'wida_growth_standard_denom',\n",
       "       'wida_n_met_growth_standard', 'wida_pct_met_growth_standard',\n",
       "       'wida_literacy_avg',\n",
       "       ...\n",
       "       'Notes', 'geometry', 'GlobalID', 'FacilityType', 'NameAbbrev', 'State',\n",
       "       'Email', 'Website', 'Description', 'YearEstablished'],\n",
       "      dtype='object', length=110)"
      ]
     },
     "execution_count": 20,
     "metadata": {},
     "output_type": "execute_result"
    }
   ],
   "source": [
    "combined_df.columns"
   ]
  },
  {
   "cell_type": "code",
   "execution_count": null,
   "id": "df660559-ae8d-462b-b466-e77011541e66",
   "metadata": {},
   "outputs": [],
   "source": []
  },
  {
   "cell_type": "code",
   "execution_count": 26,
   "id": "02e084df-634a-480b-b619-7cd9d75eb682",
   "metadata": {},
   "outputs": [],
   "source": [
    "combined_df.to_excel('combined_df.xlsx', index=False)"
   ]
  },
  {
   "cell_type": "code",
   "execution_count": null,
   "id": "23b88cca-c622-450e-b5e7-f5854223e8d6",
   "metadata": {},
   "outputs": [],
   "source": []
  }
 ],
 "metadata": {
  "kernelspec": {
   "display_name": "Python [conda env:geospatial]",
   "language": "python",
   "name": "conda-env-geospatial-py"
  },
  "language_info": {
   "codemirror_mode": {
    "name": "ipython",
    "version": 3
   },
   "file_extension": ".py",
   "mimetype": "text/x-python",
   "name": "python",
   "nbconvert_exporter": "python",
   "pygments_lexer": "ipython3",
   "version": "3.10.18"
  }
 },
 "nbformat": 4,
 "nbformat_minor": 5
}
